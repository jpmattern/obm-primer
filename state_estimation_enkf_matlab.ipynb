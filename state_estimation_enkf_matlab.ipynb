{
 "cells": [
  {
   "cell_type": "markdown",
   "metadata": {},
   "source": [
    "# NPZD state estimation prototype\n",
    "\n",
    " * using a \"stochastic\" Ensemble Kalman filter"
   ]
  },
  {
   "cell_type": "markdown",
   "metadata": {},
   "source": [
    "### model code\n",
    "\n",
    "The cell below contains the model parameters and the NPZD model code, for use with a ordinary differential equation integrator, such as `spipy.integrate.odeint`. Note, that the parameter values in `parameters` act as constant reference values. For the trajectory of a typical model, see the [NPZD notebook](npzd.ipynb)."
   ]
  },
  {
   "cell_type": "code",
   "execution_count": 1,
   "metadata": {},
   "outputs": [
    {
     "name": "stdout",
     "output_type": "stream",
     "text": [
      "\n",
      "ans =\n",
      "\n",
      "    '9.7.0.1296695 (R2019b) Update 4'\n",
      "\n"
     ]
    }
   ],
   "source": [
    "% parameter values\n",
    "parameters = struct(...\n",
    "    'vmax', 0.075, ...       % maximum growth rate in Michaelis Menten formulation\n",
    "    'nuthalfsat', 0.3, ...   % nutrient half saturation in Michaelis Menten formulation\n",
    "    'graz', 0.02, ...        % zooplankton grazing rate\n",
    "    'mortP', 0.02, ...       % phytoplankton mortality rate\n",
    "    'mortZ', 0.03, ...       % zooplankton mortality rate\n",
    "    'reminrate', 0.1 ...     % remineralization rate\n",
    ");"
   ]
  },
  {
   "cell_type": "code",
   "execution_count": 2,
   "metadata": {},
   "outputs": [
    {
     "name": "stdout",
     "output_type": "stream",
     "text": [
      "Created file '/home/jmattern/projects/20220211_matlab_kernel/npzd.m'.\n"
     ]
    }
   ],
   "source": [
    "%%file npzd.m \n",
    "% the above line is required to create a matlab function inside a Jupyter notebook cell\n",
    "function out = npzd(x, t, parameters, npzd_light)\n",
    "    %{\n",
    "    input\n",
    "    =====\n",
    "    x: model state\n",
    "    t: current time (in days)\n",
    "    parameters: model parameters\n",
    "    light: light function returning irradiance at time t\n",
    "    %}\n",
    "    n = max(x(1), 0.0);\n",
    "    p = max(x(2), 0.0);\n",
    "    z = max(x(3), 0.0);\n",
    "    d = max(x(4), 0.0);\n",
    "    \n",
    "    growth = parameters.('vmax') * n / (parameters.('nuthalfsat') + n) * npzd_light(t) * p;\n",
    "    grazing = parameters.('graz') * p * z;\n",
    "    p_loss = parameters.('mortP') * p;\n",
    "    z_loss = parameters.('mortZ') * z * z;\n",
    "    remin = parameters.('reminrate') * d;\n",
    "    \n",
    "    out = [-growth+remin, growth-grazing-p_loss, grazing-z_loss, p_loss+z_loss-remin];\n",
    "end"
   ]
  },
  {
   "cell_type": "markdown",
   "metadata": {},
   "source": [
    "### code to run model\n",
    "\n",
    "Helper functions for computing the light at time t (in units of days), which is a simple sinusoidal function, and running the NPZD model forward.\n",
    "The time vector `t` determines the length of each NPZD model simulation."
   ]
  },
  {
   "cell_type": "code",
   "execution_count": 3,
   "metadata": {},
   "outputs": [
    {
     "name": "stdout",
     "output_type": "stream",
     "text": [
      "Created file '/home/jmattern/projects/20220211_matlab_kernel/npzd_light.m'.\n"
     ]
    }
   ],
   "source": [
    "%%file npzd_light.m\n",
    "% light function returning irradiance at time t\n",
    "function out = npzd_light(t)\n",
    "    out =  1.0 + 0.5 * (0.8 * sin(pi * ((t - 81.25) / 182.5)) - 0.8);\n",
    "end"
   ]
  },
  {
   "cell_type": "code",
   "execution_count": 4,
   "metadata": {},
   "outputs": [],
   "source": [
    "npzd_ode = @(t, x) npzd(x, t, parameters, @npzd_light)';"
   ]
  },
  {
   "cell_type": "markdown",
   "metadata": {},
   "source": [
    "### settings changeable by the user\n",
    "\n",
    "Parameters not listed in `parameters_reference` are assumed to be constant and kept at the values specified in `parameters` at the top of the notebook. Currently, the values in `parameters` for parameters that are being estimated, are used as the mean values for the prior ensemble. "
   ]
  },
  {
   "cell_type": "code",
   "execution_count": 5,
   "metadata": {},
   "outputs": [],
   "source": [
    "% true initial conditions (used to generate synthetic observations)\n",
    "x0_true = [0.6, 0.15, 0.2, 0.05];\n",
    "\n",
    "x0_prior = [0.2, 0.1, 0.3, 0.05];\n",
    "\n",
    "% select the standard deviation of the prior ensemble for each\n",
    "x0_prior_uncertainty = [0.1, 0.1, 0.1, 0.1];\n",
    "\n",
    "% select when to observe state\n",
    "t_obs = 10; % compare plot in NPZD notebook\n",
    "\n",
    "% index of the state variables to observe\n",
    "i_obs = [1, 2, 3]; % N, P, Z\n",
    "\n",
    "% select the observation uncertainty\n",
    "obs_uncertainty = [0.0003, 0.0003, 0.0003];\n",
    "\n",
    "% select the number of ensemble members\n",
    "n_ens = 50;"
   ]
  },
  {
   "cell_type": "markdown",
   "metadata": {},
   "source": [
    "### code to generate synthetic data and create the ensembles"
   ]
  },
  {
   "cell_type": "code",
   "execution_count": 6,
   "metadata": {},
   "outputs": [],
   "source": [
    "% number of observations\n",
    "n_obs = length(i_obs);\n",
    "n_x0 = length(x0_prior);\n",
    "\n",
    "% use model to generate the synthetic data\n",
    "% true_state is the true model state without any added noise\n",
    "[t, trajectory] = ode45(npzd_ode, [0, t_obs], x0_true); %run_model(x0_true)[t_obs, i_obs];\n",
    "true_state = trajectory(end, i_obs);\n",
    "\n",
    "% generate ensemble of observations adding pseudo-random noise to true_state\n",
    "Y = true_state' + obs_uncertainty' .* rand([n_obs, n_ens]);\n",
    "\n",
    "% generate the prior ensemble of parameters X by adding pseud-random noise to the parameters \n",
    "X_mean = x0_prior;\n",
    "\n",
    "X = max(0.0, X_mean' + x0_prior_uncertainty' .* rand([n_x0, n_ens]));\n",
    "\n",
    "% for each initial condition in X, run the NPZD model to generate HX, the prior ensemble of model states \n",
    "% at the observations\n",
    "HX = zeros([n_obs, n_ens]);\n",
    "for iens = 1:n_ens\n",
    "    [t, trajectory] = ode45(npzd_ode, [0, t_obs], X(:, iens));\n",
    "    HX(:, iens) = trajectory(end, i_obs);\n",
    "end"
   ]
  },
  {
   "cell_type": "markdown",
   "metadata": {},
   "source": [
    "### code to perform data assimilation\n",
    "\n",
    "Run the ensemble Kalman filter. Below, the symbol denote:\n",
    "\n",
    "`HBHT`: $\\mathbf{H}\\mathbf{B}\\mathbf{H}^T$\n",
    "\n",
    "`BHT`: $\\mathbf{B}\\mathbf{H}^T$\n",
    "\n",
    "`R`: $\\mathbf{R}$\n",
    "\n",
    "`K`: $\\mathbf{B}\\mathbf{H}^T \\left(\\mathbf{H}\\mathbf{B}\\mathbf{H}^T + \\mathbf{R}\\right)$ (Kalman gain)"
   ]
  },
  {
   "cell_type": "code",
   "execution_count": 7,
   "metadata": {},
   "outputs": [],
   "source": [
    "HBHT = cov(HX');\n",
    "BHT = (X-mean(X,2)) * (HX-mean(HX,2))' / (n_ens - 1);\n",
    "R = diag(obs_uncertainty.^2);\n",
    "\n",
    "K = BHT * inv(HBHT + R);\n",
    "\n",
    "% use kalman gain to compute update for each ensemble member in X, and store updated ensemble in X_post\n",
    "X_post = zeros(size(X));\n",
    "for iens = 1:n_ens\n",
    "    X_post(:, iens) = X(:, iens) + K * (Y(:,iens) - HX(:,iens));\n",
    "end"
   ]
  },
  {
   "cell_type": "code",
   "execution_count": 8,
   "metadata": {},
   "outputs": [
    {
     "name": "stdout",
     "output_type": "stream",
     "text": [
      "Created file '/home/jmattern/projects/20220211_matlab_kernel/draw_ensemble.m'.\n"
     ]
    }
   ],
   "source": [
    "%%file draw_ensemble.m \n",
    "function draw_ensemble(ensemble, color)\n",
    "    \n",
    "    ensmean = mean(ensemble, 2);\n",
    "    enscov = cov(ensemble');\n",
    "\n",
    "    a = enscov(1, 1);\n",
    "    b = enscov(2, 1);\n",
    "    c = enscov(2, 2);\n",
    "\n",
    "    tmp = sqrt((0.5 * (a - c))^2 + b^2);\n",
    "    l1 = sqrt(0.5 * (a + c) + tmp);\n",
    "    l2 = sqrt(0.5 * (a + c) - tmp);\n",
    "\n",
    "    if b == 0 and a >= c\n",
    "        angle = 0;\n",
    "    elseif b == 0 and a < c\n",
    "        angle = 90;\n",
    "    else\n",
    "        angle = atan2(l1 - a, b) * 180 / pi;\n",
    "    end\n",
    "    \n",
    "    beta = -angle * (pi / 180);\n",
    "    sinbeta = sin(beta);\n",
    "    cosbeta = cos(beta);\n",
    "\n",
    "    alpha = linspace(0, 360, 200)' .* (pi / 180);\n",
    "    sinalpha = sin(alpha);\n",
    "    cosalpha = cos(alpha);\n",
    "\n",
    "    x = ensmean(1) + (l1 * cosalpha * cosbeta - l2 * sinalpha * sinbeta);\n",
    "    y = ensmean(2) + (l1 * cosalpha * sinbeta + l2 * sinalpha * cosbeta);\n",
    "        \n",
    "    plot(ensemble(1, :), ensemble(2, :), 'Marker', '.', 'MarkerEdgeColor', color, 'LineStyle', 'none')\n",
    "    plot(ensmean(1), ensmean(2), 'Marker', '+', 'MarkerEdgeColor', color, 'LineStyle', 'none', ...\n",
    "        'MarkerSize', 15)\n",
    "    plot(x, y, color)\n",
    "end"
   ]
  },
  {
   "cell_type": "code",
   "execution_count": 9,
   "metadata": {},
   "outputs": [
    {
     "data": {
      "image/png": "[encoded data removed]",
      "text/plain": [
       "<IPython.core.display.Image object>"
      ]
     },
     "metadata": {},
     "output_type": "display_data"
    }
   ],
   "source": [
    "figure\n",
    "\n",
    "nrows = n_x0 - 1;\n",
    "ncols = n_x0 - 1;\n",
    "\n",
    "state_names = {'nutrients', 'phytoplankton', 'zooplankton', 'detritus'};\n",
    "\n",
    "for icol = 1:ncols\n",
    "    for irow = 1:nrows\n",
    "        subplot(nrows, ncols, (irow-1) * nrows + icol)\n",
    "        if irow < icol\n",
    "            set(gca(), 'Visible', 'off')\n",
    "            continue\n",
    "        end\n",
    "        \n",
    "        ix = icol;\n",
    "        iy = irow + 1;\n",
    "        \n",
    "        hold on\n",
    "        if irow == nrows\n",
    "            xlabel(state_names{ix})\n",
    "        end\n",
    "        if icol == 1\n",
    "            ylabel(state_names{iy})\n",
    "        end\n",
    "        plot(x0_true(ix), x0_true(iy), 'LineStyle', 'none', 'Marker', '+', 'MarkerEdgeColor', 'k')\n",
    "        draw_ensemble(X([ix, iy], :), 'r')\n",
    "        draw_ensemble(X_post([ix, iy], :), 'b')\n",
    "        \n",
    "    end\n",
    "end"
   ]
  },
  {
   "cell_type": "code",
   "execution_count": null,
   "metadata": {},
   "outputs": [],
   "source": []
  }
 ],
 "metadata": {
  "kernelspec": {
   "display_name": "Matlab",
   "language": "matlab",
   "name": "matlab"
  },
  "language_info": {
   "codemirror_mode": "octave",
   "file_extension": ".m",
   "help_links": [
    {
     "text": "MetaKernel Magics",
     "url": "https://metakernel.readthedocs.io/en/latest/source/README.html"
    }
   ],
   "mimetype": "text/x-octave",
   "name": "matlab",
   "version": "0.16.11"
  }
 },
 "nbformat": 4,
 "nbformat_minor": 2
}
