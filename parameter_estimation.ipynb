{
 "cells": [
  {
   "cell_type": "markdown",
   "metadata": {},
   "source": [
    "# NPZD parameter estimation prototype\n",
    "\n",
    " * using a \"stochastic\" Ensemble Kalman filter"
   ]
  },
  {
   "cell_type": "markdown",
   "metadata": {},
   "source": [
    "### model code\n",
    "\n",
    "The cell below contains the model parameters and the NPZD model code, for use with a ordinary differential equation integrator, such as `spipy.integrate.odeint`. Note that the parameter values in `parameters` act as constant reference values or starting point (ensemble mean) for the parameter estimation, depending on whether the parameter in question is being estimated. "
   ]
  },
  {
   "cell_type": "code",
   "execution_count": 1,
   "metadata": {},
   "outputs": [],
   "source": [
    "import numpy as np\n",
    "\n",
    "# parameter values\n",
    "parameters = {\n",
    "    'vmax': 0.075,       # maximum growth rate in Michaelis Menten formulation\n",
    "    'nuthalfsat': 0.3,   # nutrient half saturation in Michaelis Menten formulation\n",
    "    'graz': 0.02,        # zooplankton grazing rate\n",
    "    'mortP': 0.02,       # phytoplankton mortality rate\n",
    "    'mortZ': 0.03,       # zooplankton mortality rate\n",
    "    'reminrate': 0.1,    # remineralization rate\n",
    "}\n",
    "\n",
    "# model code\n",
    "def npzd(x, t, parameters, light):\n",
    "    '''\n",
    "    input\n",
    "    =====\n",
    "    x: model state\n",
    "    t: current time (in days)\n",
    "    parameters: model parameters\n",
    "    light: light function returning irradiance at time t\n",
    "    '''\n",
    "    n, p, z, d = np.maximum(x, 0.0)\n",
    "    \n",
    "    growth = parameters['vmax'] * n / (parameters['nuthalfsat'] + n) * light(t) * p\n",
    "    grazing = parameters['graz'] * p * z\n",
    "    p_loss = parameters['mortP'] * p\n",
    "    z_loss = parameters['mortZ'] * z * z\n",
    "    remin = parameters['reminrate'] * d\n",
    "    \n",
    "    return np.array((-growth+remin, growth-grazing-p_loss, grazing-z_loss, p_loss+z_loss-remin))"
   ]
  },
  {
   "cell_type": "markdown",
   "metadata": {},
   "source": [
    "### code to run model\n",
    "\n",
    "Helper functions for computing the light at time t (in units of daya), which is a simple sinusoidal function, and running the NPZD model forward.\n",
    "The vector `x0`, and the time vector `t` determine the initial conditions and length of each NPZD model simulation."
   ]
  },
  {
   "cell_type": "code",
   "execution_count": 2,
   "metadata": {},
   "outputs": [],
   "source": [
    "from scipy.integrate import odeint\n",
    "\n",
    "# initial conditions\n",
    "x0 = np.array((0.6, 0.15, 0.2, 0.05))\n",
    "\n",
    "# initialize time vector (2 years)\n",
    "t = np.arange(0.0, 2 * 365.0)\n",
    "\n",
    "# light function returning irradiance at time t\n",
    "def light(t):\n",
    "    return 1.0 + 0.5*(0.8 * np.sin(np.pi*((t-81.25)/182.5)) - 0.8)\n",
    "\n",
    "def run_model(parameter_changes=None):\n",
    "    parameters_run = parameters.copy()\n",
    "    if parameter_changes is not None:\n",
    "        parameters_run.update(parameter_changes)\n",
    "    return odeint(npzd, x0, t, args=(parameters_run, light))"
   ]
  },
  {
   "cell_type": "markdown",
   "metadata": {},
   "source": [
    "### settings changeable by the user\n",
    "\n",
    "Parameters not listed in `parameters_reference` are assumed to be constant and kept at the values specified in `parameters` at the top of the notebook. Currently, the values in `parameters` for parameters that are being estimated, are used as the mean values for the prior ensemble. "
   ]
  },
  {
   "cell_type": "code",
   "execution_count": 3,
   "metadata": {},
   "outputs": [],
   "source": [
    "# select which parameters to estimate and what their reference or \"true\" values should be\n",
    "parameters_reference = {\n",
    "    'vmax': 0.06,\n",
    "    'reminrate': 0.12,\n",
    "}\n",
    "\n",
    "# select when to observe state\n",
    "t_obs = 70 # day 70 (compare plot in NPZD notebook)\n",
    "\n",
    "# index of the state variables to observe\n",
    "i_obs = np.array([0, 1, 2]) # N, P, Z\n",
    "\n",
    "# select the observation uncertainty\n",
    "obs_uncertainty = np.array([0.0003, 0.0003, 0.0003])\n",
    "\n",
    "# select the number of ensemble members\n",
    "n_ens = 50\n",
    "\n",
    "# select the standard deviation of the prior ensemble for each paramete\n",
    "prior_uncertainty = np.array([0.01, 0.03])"
   ]
  },
  {
   "cell_type": "markdown",
   "metadata": {},
   "source": [
    "### code to generate synthetic data and create the ensembles"
   ]
  },
  {
   "cell_type": "code",
   "execution_count": 4,
   "metadata": {},
   "outputs": [],
   "source": [
    "# number of parameters to estimate\n",
    "n_par = len(parameters_reference)\n",
    "# number of observations\n",
    "n_obs = len(i_obs)\n",
    "\n",
    "# use model to generate the synthetic data\n",
    "# true_state is the true model state without any added noise\n",
    "true_state = run_model(parameter_changes=parameters_reference)[t_obs, i_obs]\n",
    "\n",
    "# generate ensemble of observations adding pseudo-random noise to true_state\n",
    "Y = true_state[:,None] + obs_uncertainty[:,None] * np.random.normal(size=(n_obs, n_ens))\n",
    "\n",
    "# generate the prior ensemble of parameters X by adding pseud-random noise to the parameters \n",
    "X_mean = np.array([parameters[p] for p in parameters_reference.keys()])\n",
    "X = np.maximum(0.0, X_mean[:,None] + prior_uncertainty[:,None] * np.random.normal(size=(n_par, n_ens)))\n",
    "\n",
    "# for each parameter combination in X, run the NPZD model to generate the prior ensemble of model states HX\n",
    "HX = np.empty((n_obs, n_ens))\n",
    "for iens in range(n_ens):\n",
    "    parameter_changes = {p: v for p, v in zip(parameters_reference.keys(), X[:, iens])}\n",
    "    HX[:, iens] = run_model(parameter_changes=parameter_changes)[t_obs, i_obs]"
   ]
  },
  {
   "cell_type": "markdown",
   "metadata": {},
   "source": [
    "### code to perform data assimilation\n",
    "\n",
    "Run the ensemble Kalman filter. Below, the symbold denote:\n",
    "\n",
    "`HBHT`: $\\mathbf{H}\\mathbf{B}\\mathbf{H}^T$\n",
    "\n",
    "`BHT`: $\\mathbf{B}\\mathbf{H}^T$\n",
    "\n",
    "`R`: $\\mathbf{R}$\n",
    "\n",
    "`K`: $\\mathbf{B}\\mathbf{H}^T \\left(\\mathbf{H}\\mathbf{B}\\mathbf{H}^T + \\mathbf{R}\\right)$ (Kalman gain)\n",
    "\n"
   ]
  },
  {
   "cell_type": "code",
   "execution_count": 5,
   "metadata": {},
   "outputs": [],
   "source": [
    "HBHT = np.cov(HX)\n",
    "BHT = np.cov(X, HX)[:n_par,-n_obs:]\n",
    "R = np.diag(obs_uncertainty)\n",
    "\n",
    "K = BHT @ np.linalg.inv(HBHT + R)\n",
    "\n",
    "# use kalman gain to compute update for each ensemble member in X, and store updated ensemble in X_post\n",
    "X_post = np.empty_like(X)\n",
    "for iens in range(n_ens):\n",
    "    X_post[:, iens] = X[:, iens] + K @ (Y[:,iens] - HX[:,iens])\n",
    "\n",
    "# one-line version\n",
    "#X_post = X + np.array([K @ (y - Hx) for y, Hx in zip(Y.T, HX.T)]).T"
   ]
  },
  {
   "cell_type": "markdown",
   "metadata": {},
   "source": [
    "### prepare plotting"
   ]
  },
  {
   "cell_type": "code",
   "execution_count": 6,
   "metadata": {},
   "outputs": [],
   "source": [
    "import matplotlib.pyplot as plt\n",
    "import matplotlib as mpl\n",
    "from matplotlib.patches import Ellipse\n",
    "from math import atan2\n",
    "\n",
    "mpl.rcParams['legend.fontsize'] = 16\n",
    "mpl.rcParams['axes.titlesize'] = 26\n",
    "mpl.rcParams['figure.figsize'] = (16, 9)\n",
    "mpl.rcParams['xtick.labelsize'] = 16\n",
    "mpl.rcParams['ytick.labelsize'] = 16\n",
    "mpl.rcParams['font.size'] = 20\n",
    "\n",
    "\n",
    "#matplotlib.patches.Ellipse(xy, width, height, angle=0\n",
    "\n",
    "def draw_ellipse(ax, cov=None, xy=None, ensemble=None, **plotargs):\n",
    "    if ensemble is not None:\n",
    "        xy = np.mean(ensemble, axis=1)\n",
    "        cov = np.cov(ensemble)\n",
    "\n",
    "    assert cov.shape == (2, 2), 'Covariance matrix must be 2 x 2.'\n",
    "\n",
    "    a = cov[0, 0]\n",
    "    b = cov[1, 0]\n",
    "    c = cov[1, 1]\n",
    "\n",
    "    tmp = np.sqrt((0.5 * (a - c))**2 + b**2)\n",
    "    l1 = 0.5 * (a + c) + tmp\n",
    "    l2 = 0.5 * (a + c) - tmp\n",
    "\n",
    "    if b == 0 and a >= c:\n",
    "        angle = 0\n",
    "    elif b == 0 and a < c:\n",
    "        angle = 90\n",
    "    else:\n",
    "        angle = atan2(l1 - a, b) * 180 / np.pi\n",
    "\n",
    "    e = Ellipse(xy, width=np.sqrt(l1), height=np.sqrt(l2), angle=angle, **plotargs)\n",
    "\n",
    "    ax.add_artist(e)\n",
    "\n",
    "\n",
    "def draw_ensemble(ax, ensemble, color=None, label=None):\n",
    "    ax.plot(ensemble[0, :], ensemble[1, :], ls='none', marker='o', color=color, alpha=0.5, mec='none', label=label)\n",
    "    draw_ellipse(ax, ensemble=ensemble, color=color, alpha=0.2, zorder=0.2)\n",
    "    ax.plot(np.mean(ensemble[0, :]), np.mean(ensemble[1, :]), ls='none', marker='+', mew=3, color=color, ms=15)"
   ]
  },
  {
   "cell_type": "markdown",
   "metadata": {},
   "source": [
    "### plotting\n",
    "\n",
    "Plot the ensemble and associated normal distribution (mean and covariance ellipse) before and after assimilation."
   ]
  },
  {
   "cell_type": "code",
   "execution_count": 7,
   "metadata": {},
   "outputs": [
    {
     "data": {
      "image/png": "[encoded data removed]",
      "text/plain": [
       "<Figure size 1152x648 with 1 Axes>"
      ]
     },
     "metadata": {
      "needs_background": "light"
     },
     "output_type": "display_data"
    }
   ],
   "source": [
    "fig, ax = plt.subplots()\n",
    "\n",
    "ref = np.array([v for v in parameters_reference.values()])\n",
    "ax.plot(ref[0], ref[1], ls='none', marker='+', mew=4, color='black', ms=20, label='\"truth\"')\n",
    "\n",
    "# colors = ('#228833', '#4477AA', '#EE6677', '#CCBB44') # colorblind-friendly colors\n",
    "\n",
    "draw_ensemble(ax, X, color='#EE6677', label='prior ensemble')\n",
    "draw_ensemble(ax, X_post, color='#4477AA', label='posterior ensemble')\n",
    "\n",
    "parameter_names = list(parameters_reference.keys())\n",
    "ax.set(xlabel=parameter_names[0], ylabel=parameter_names[1])\n",
    "ax.legend()\n",
    "ax.grid(True)\n",
    "None"
   ]
  },
  {
   "cell_type": "code",
   "execution_count": null,
   "metadata": {},
   "outputs": [],
   "source": []
  }
 ],
 "metadata": {
  "kernelspec": {
   "display_name": "Python 3",
   "language": "python",
   "name": "python3"
  },
  "language_info": {
   "codemirror_mode": {
    "name": "ipython",
    "version": 3
   },
   "file_extension": ".py",
   "mimetype": "text/x-python",
   "name": "python",
   "nbconvert_exporter": "python",
   "pygments_lexer": "ipython3",
   "version": "3.8.10"
  }
 },
 "nbformat": 4,
 "nbformat_minor": 4
}
