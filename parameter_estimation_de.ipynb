{
 "cells": [
  {
   "cell_type": "markdown",
   "metadata": {},
   "source": [
    "# NPZD parameter estimation prototype\n",
    "\n",
    " * using a differential evolution (DE) algorithm"
   ]
  },
  {
   "cell_type": "markdown",
   "metadata": {},
   "source": [
    "### model code (all contained in box 1)"
   ]
  },
  {
   "cell_type": "code",
   "execution_count": 1,
   "metadata": {},
   "outputs": [],
   "source": [
    "import numpy as np\n",
    "\n",
    "# parameter values\n",
    "parameters = {\n",
    "    'vmax': 0.075,       # maximum growth rate in Michaelis Menten formulation\n",
    "    'nuthalfsat': 0.3,   # nutrient half saturation in Michaelis Menten formulation\n",
    "    'graz': 0.02,        # zooplankton grazing rate\n",
    "    'mortP': 0.02,       # phytoplankton mortality rate\n",
    "    'mortZ': 0.03,       # zooplankton mortality rate\n",
    "    'reminrate': 0.1,    # remineralization rate\n",
    "}\n",
    "\n",
    "# model \n",
    "def npzd(x, t, parameters, light):\n",
    "    '''\n",
    "    input\n",
    "    =====\n",
    "    x: model state\n",
    "    t: current time (in days)\n",
    "    parameters: model parameters\n",
    "    light: light function returning irradiance at time t\n",
    "    '''\n",
    "    n, p, z, d = np.maximum(x, 0.0)\n",
    "    \n",
    "    growth = parameters['vmax'] * n / (parameters['nuthalfsat'] + n) * light(t) * p\n",
    "    grazing = parameters['graz'] * p * z\n",
    "    p_loss = parameters['mortP'] * p\n",
    "    z_loss = parameters['mortZ'] * z * z\n",
    "    remin = parameters['reminrate'] * d\n",
    "    \n",
    "    return np.array((-growth+remin, growth-grazing-p_loss, grazing-z_loss, p_loss+z_loss-remin))"
   ]
  },
  {
   "cell_type": "markdown",
   "metadata": {},
   "source": [
    "### code to run model (some or all contained in box 1)"
   ]
  },
  {
   "cell_type": "code",
   "execution_count": 2,
   "metadata": {},
   "outputs": [],
   "source": [
    "from scipy.integrate import odeint\n",
    "\n",
    "# initial conditions\n",
    "x0 = np.array((0.6, 0.15, 0.2, 0.05))\n",
    "\n",
    "# initialize time vector (1 year)\n",
    "t = np.arange(0.0, 2 * 365.0, 1.0)\n",
    "\n",
    "# light function returning irradiance at time t\n",
    "def light(t):\n",
    "    return 1.0 + 0.5*(0.8 * np.sin(np.pi*((t-81.25)/182.5)) - 0.8)\n",
    "\n",
    "def run_model(parameter_changes=None):\n",
    "    parameters_run = parameters.copy()\n",
    "    if parameter_changes is not None:\n",
    "        parameters_run.update(parameter_changes)\n",
    "    return odeint(npzd, x0, t, args=(parameters_run, light))"
   ]
  },
  {
   "cell_type": "markdown",
   "metadata": {},
   "source": [
    "### settings changeable by the user\n",
    "\n",
    "Parameters not listed in `parameters_reference` are assumed to be constant and kept at the values specified in `parameters` the top of the notebook. Currently, the values in `parameters` for parameters that are being estimated, are the mean values for the prior ensemble. "
   ]
  },
  {
   "cell_type": "code",
   "execution_count": 3,
   "metadata": {},
   "outputs": [],
   "source": [
    "# select which parameters to estimate and what their reference or \"true\" values should be\n",
    "parameters_reference = {\n",
    "    'vmax': 0.06,\n",
    "    'reminrate': 0.12,\n",
    "}\n",
    "\n",
    "# select when to observe state\n",
    "t_obs = 70 # day 70 (compare plot in NPZD notebook)\n",
    "\n",
    "# select which state variables to observe\n",
    "i_obs = np.array([0, 1, 2]) # N, P, Z\n",
    "\n",
    "# select the observation uncertainty\n",
    "obs_uncertainty = np.array([0.0003, 0.0003, 0.0003])\n",
    "\n",
    "# select population size\n",
    "n_pop = 50\n",
    "\n",
    "n_parent = n_pop // 2\n",
    "\n",
    "n_gen = 10\n",
    "\n",
    "# select the standard deviation of the prior ensemble for each paramete\n",
    "prior_uncertainty = np.array([0.01, 0.03])"
   ]
  },
  {
   "cell_type": "markdown",
   "metadata": {},
   "source": [
    "### code to generate synthetic data and create the ensembles"
   ]
  },
  {
   "cell_type": "code",
   "execution_count": 4,
   "metadata": {},
   "outputs": [],
   "source": [
    "n_par = len(parameters_reference)\n",
    "n_obs = len(i_obs)\n",
    "\n",
    "# use model to generate the synthetic data\n",
    "obs = run_model(parameter_changes=parameters_reference)[t_obs, i_obs]\n",
    "\n",
    "# generate ensemble of observations\n",
    "y = obs[:,None] # + obs_uncertainty * np.random.normal(size=n_obs) ################### TODO\n",
    "\n",
    "# generate the prior ensemble of parameters\n",
    "pop_mean = np.array([parameters[p] for p in parameters_reference.keys()])\n",
    "pop = np.maximum(0.0, pop_mean[:,None] + prior_uncertainty[:,None] * np.random.normal(size=(n_par, n_pop)))\n",
    "assert not np.any(np.isnan(pop)), 'Pop trouble'.format(igen)\n",
    "\n",
    "# keep a copy\n",
    "pop_initial = pop.copy()\n",
    "\n",
    "# not in-place\n",
    "def compute_fitness(pop):\n",
    "    fitness = np.empty(pop.shape[1])\n",
    "    for ipop, params in enumerate(pop.T):\n",
    "        parameter_changes = {p: v for p, v in zip(parameters_reference.keys(), pop[:, ipop])}\n",
    "        x = run_model(parameter_changes=parameter_changes)[t_obs, i_obs]\n",
    "        fitness[ipop] = np.sum((obs_uncertainty / (x - y))**2)\n",
    "    return fitness\n",
    "\n",
    "# in-place\n",
    "def recombine(parents, n_child):\n",
    "    n_parent = parents.shape[1]\n",
    "    children = np.empty((parents.shape[0], n_child))\n",
    "    for ichild in range(n_child):\n",
    "        i0 = np.random.randint(0, n_parent)\n",
    "        i1 = np.random.randint(0, n_parent-1)\n",
    "        i2 = np.random.randint(0, n_parent-2)\n",
    "        \n",
    "        i1 += (i1 >= i0)\n",
    "        i2 += (i2 >= i0)\n",
    "        i2 += (i2 >= i1)\n",
    "        \n",
    "        children[:, ichild] = np.maximum(0.0, parents[:, i0] + (parents[:, i1] - parents[:, i2]))\n",
    "        \n",
    "    return children"
   ]
  },
  {
   "cell_type": "markdown",
   "metadata": {},
   "source": [
    "### code to perform differential evolution"
   ]
  },
  {
   "cell_type": "code",
   "execution_count": 5,
   "metadata": {
    "scrolled": false
   },
   "outputs": [
    {
     "name": "stdout",
     "output_type": "stream",
     "text": [
      "0 [10.52213092  9.82682683  4.80250455  0.72339221  0.70658034]\n",
      "1 [5.85798496e+03 1.05221309e+01 9.82682683e+00 6.08699878e+00\n",
      " 4.80250455e+00]\n",
      "2 [5857.98495761   58.52349232   17.62144423   15.34149565   10.52213092]\n",
      "3 [5857.98495761   58.52349232   53.52468434   17.62144423   15.34149565]\n",
      "4 [5857.98495761  507.92126878  262.5379132   101.6425119    58.52349232]\n",
      "5 [5857.98495761  553.63672094  507.92126878  262.5379132   237.35012909]\n",
      "6 [33574.19942378  5857.98495761   553.63672094   507.92126878\n",
      "   262.5379132 ]\n",
      "7 [33574.19942378 30243.78393681  5857.98495761   553.63672094\n",
      "   507.92126878]\n",
      "8 [190409.60995942  33574.19942378  30243.78393681  14774.83243326\n",
      "   5857.98495761]\n",
      "9 [190409.60995942  33574.19942378  30243.78393681  14774.83243326\n",
      "   5857.98495761]\n"
     ]
    }
   ],
   "source": [
    "fitness = compute_fitness(pop)\n",
    "n_child = n_pop - n_parent\n",
    "\n",
    "indi_highest_fitness = np.empty((pop.shape[0], n_gen + 1))\n",
    "\n",
    "for igen in range(n_gen):\n",
    "    index = np.argsort(fitness)\n",
    "    \n",
    "    indi_highest_fitness[:, igen] = pop[:, index[-1]]\n",
    "    \n",
    "    print(igen, fitness[index[::-1]][:5])\n",
    "    index_child = index[:n_child]\n",
    "    index_parent = index[n_child:]\n",
    "    assert not np.any(np.isnan(pop)), 'Pop trouble igen={}, before'.format(igen)\n",
    "    pop[:,index_child] = recombine(parents=pop[:,index_parent], n_child=n_child)\n",
    "    assert not np.any(np.isnan(pop)), 'Pop trouble igen={}, after'.format(igen)\n",
    "    \n",
    "    fitness[index_child] = compute_fitness(pop[:,index_child])\n",
    "    \n",
    "index = np.argsort(fitness)\n",
    "indi_highest_fitness[:, -1] = pop[:, index[-1]]"
   ]
  },
  {
   "cell_type": "markdown",
   "metadata": {},
   "source": [
    "### prepare plotting"
   ]
  },
  {
   "cell_type": "code",
   "execution_count": 6,
   "metadata": {},
   "outputs": [],
   "source": [
    "import matplotlib.pyplot as plt\n",
    "import matplotlib as mpl\n",
    "\n",
    "mpl.rcParams['legend.fontsize'] = 16\n",
    "mpl.rcParams['axes.titlesize'] = 26\n",
    "mpl.rcParams['figure.figsize'] = (16, 9)\n",
    "mpl.rcParams['xtick.labelsize'] = 16\n",
    "mpl.rcParams['ytick.labelsize'] = 16\n",
    "mpl.rcParams['font.size'] = 20"
   ]
  },
  {
   "cell_type": "markdown",
   "metadata": {},
   "source": [
    "### plotting"
   ]
  },
  {
   "cell_type": "code",
   "execution_count": 7,
   "metadata": {},
   "outputs": [
    {
     "data": {
      "image/png": "[encoded data removed]",
      "text/plain": [
       "<Figure size 1152x648 with 1 Axes>"
      ]
     },
     "metadata": {
      "needs_background": "light"
     },
     "output_type": "display_data"
    }
   ],
   "source": [
    "fig, ax = plt.subplots()\n",
    "\n",
    "ref = np.array([v for v in parameters_reference.values()])\n",
    "ax.plot(ref[0], ref[1], ls='none', marker='+', mew=4, color='black', ms=20, label='\"truth\"')\n",
    "#ax.axvline(ref[0], color='black')\n",
    "#ax.axhline(ref[1], color='black')\n",
    "\n",
    "# colors = ('#228833', '#4477AA', '#EE6677', '#CCBB44') # colorblind-friendly colors\n",
    "\n",
    "#draw_ensemble(ax, pop_initial, color='#EE6677', label='prior')\n",
    "#draw_ensemble(ax, pop, color='#4477AA', label='posterior')\n",
    "\n",
    "ax.plot(indi_highest_fitness[0, :], indi_highest_fitness[1, :], marker='o', ms=19, mec='none')\n",
    "\n",
    "for igen in range(n_gen + 1):\n",
    "    if igen == 0 or not np.array_equal(indi_highest_fitness[:, igen], indi_highest_fitness[:, igen-1]):\n",
    "        ax.text(indi_highest_fitness[0, igen], indi_highest_fitness[1, igen], str(igen), color='0.9', \n",
    "                va='center', ha='center', size=14)\n",
    "\n",
    "\n",
    "parameter_names = list(parameters_reference.keys())\n",
    "ax.set(xlabel=parameter_names[0], ylabel=parameter_names[1])\n",
    "ax.legend()\n",
    "ax.grid(True)\n",
    "None"
   ]
  },
  {
   "cell_type": "code",
   "execution_count": null,
   "metadata": {},
   "outputs": [],
   "source": []
  }
 ],
 "metadata": {
  "kernelspec": {
   "display_name": "Python 3",
   "language": "python",
   "name": "python3"
  },
  "language_info": {
   "codemirror_mode": {
    "name": "ipython",
    "version": 3
   },
   "file_extension": ".py",
   "mimetype": "text/x-python",
   "name": "python",
   "nbconvert_exporter": "python",
   "pygments_lexer": "ipython3",
   "version": "3.8.10"
  }
 },
 "nbformat": 4,
 "nbformat_minor": 4
}
